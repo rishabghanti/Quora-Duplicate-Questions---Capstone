{
 "cells": [
  {
   "cell_type": "code",
   "execution_count": 1,
   "metadata": {},
   "outputs": [
    {
     "name": "stderr",
     "output_type": "stream",
     "text": [
      "Using TensorFlow backend.\n"
     ]
    },
    {
     "data": {
      "text/plain": [
       "'\\n'"
      ]
     },
     "execution_count": 1,
     "metadata": {},
     "output_type": "execute_result"
    }
   ],
   "source": [
    "import os\n",
    "import pickle\n",
    "import pandas as pd\n",
    "import numpy as np\n",
    "import spacy\n",
    "import keras\n",
    "\n",
    "from collections import Counter\n",
    "\n",
    "from keras.models import Model, load_model\n",
    "from keras.layers import BatchNormalization, Dense, Input\n",
    "from keras.callbacks import ModelCheckpoint, CSVLogger\n",
    "\n",
    "from IPython.core.display import display, HTML\n",
    "\n",
    "import matplotlib.pyplot as plt\n",
    "%matplotlib inline\n",
    "\n",
    "from tqdm import tqdm\n",
    "'''\n",
    "'''"
   ]
  },
  {
   "cell_type": "markdown",
   "metadata": {},
   "source": [
    "### Load the Quora dataset"
   ]
  },
  {
   "cell_type": "code",
   "execution_count": 2,
   "metadata": {
    "collapsed": true
   },
   "outputs": [],
   "source": [
    "# Reading the training data .csv file\n",
    "data = pd.read_csv('dataset/train.csv') "
   ]
  },
  {
   "cell_type": "markdown",
   "metadata": {},
   "source": [
    "### Analyze the data"
   ]
  },
  {
   "cell_type": "code",
   "execution_count": 3,
   "metadata": {},
   "outputs": [
    {
     "name": "stdout",
     "output_type": "stream",
     "text": [
      "There are 404290 rows in the dataset.\n",
      "There are 149263 pairs whose questions have the same meaning.\n",
      "There are 255027 pairs whose questions have different meanings.\n",
      "36.9197853026293 % of the dataset has positive records while 63.0802146973707 % has negative records.\n"
     ]
    }
   ],
   "source": [
    "total_number_of_rows = len(data) \n",
    "print (\"There are\" ,total_number_of_rows, \"rows in the dataset.\")\n",
    "\n",
    "total_number_of_duplicate_pairs = len(data[data['is_duplicate']==1])\n",
    "print (\"There are\" ,total_number_of_duplicate_pairs, \"pairs whose questions have the same meaning.\")\n",
    "\n",
    "total_number_of_non_duplicate_pairs = len(data[data['is_duplicate']==0])\n",
    "print (\"There are\" ,total_number_of_non_duplicate_pairs, \"pairs whose questions have different meanings.\")\n",
    "\n",
    "percent_positives = 100 * (total_number_of_duplicate_pairs)/total_number_of_rows\n",
    "percent_negative = 100 * (total_number_of_non_duplicate_pairs)/total_number_of_rows\n",
    "print (percent_positives,\"% of the dataset has positive records while\" ,percent_negative, \"% has negative records.\")\n"
   ]
  },
  {
   "cell_type": "code",
   "execution_count": 4,
   "metadata": {},
   "outputs": [
    {
     "data": {
      "text/html": [
       "<div>\n",
       "<style scoped>\n",
       "    .dataframe tbody tr th:only-of-type {\n",
       "        vertical-align: middle;\n",
       "    }\n",
       "\n",
       "    .dataframe tbody tr th {\n",
       "        vertical-align: top;\n",
       "    }\n",
       "\n",
       "    .dataframe thead th {\n",
       "        text-align: right;\n",
       "    }\n",
       "</style>\n",
       "<table border=\"1\" class=\"dataframe\">\n",
       "  <thead>\n",
       "    <tr style=\"text-align: right;\">\n",
       "      <th></th>\n",
       "      <th>id</th>\n",
       "      <th>qid1</th>\n",
       "      <th>qid2</th>\n",
       "      <th>question1</th>\n",
       "      <th>question2</th>\n",
       "      <th>is_duplicate</th>\n",
       "    </tr>\n",
       "  </thead>\n",
       "  <tbody>\n",
       "    <tr>\n",
       "      <th>0</th>\n",
       "      <td>0</td>\n",
       "      <td>1</td>\n",
       "      <td>2</td>\n",
       "      <td>What is the step by step guide to invest in sh...</td>\n",
       "      <td>What is the step by step guide to invest in sh...</td>\n",
       "      <td>0</td>\n",
       "    </tr>\n",
       "    <tr>\n",
       "      <th>1</th>\n",
       "      <td>1</td>\n",
       "      <td>3</td>\n",
       "      <td>4</td>\n",
       "      <td>What is the story of Kohinoor (Koh-i-Noor) Dia...</td>\n",
       "      <td>What would happen if the Indian government sto...</td>\n",
       "      <td>0</td>\n",
       "    </tr>\n",
       "    <tr>\n",
       "      <th>2</th>\n",
       "      <td>2</td>\n",
       "      <td>5</td>\n",
       "      <td>6</td>\n",
       "      <td>How can I increase the speed of my internet co...</td>\n",
       "      <td>How can Internet speed be increased by hacking...</td>\n",
       "      <td>0</td>\n",
       "    </tr>\n",
       "    <tr>\n",
       "      <th>3</th>\n",
       "      <td>3</td>\n",
       "      <td>7</td>\n",
       "      <td>8</td>\n",
       "      <td>Why am I mentally very lonely? How can I solve...</td>\n",
       "      <td>Find the remainder when [math]23^{24}[/math] i...</td>\n",
       "      <td>0</td>\n",
       "    </tr>\n",
       "    <tr>\n",
       "      <th>4</th>\n",
       "      <td>4</td>\n",
       "      <td>9</td>\n",
       "      <td>10</td>\n",
       "      <td>Which one dissolve in water quikly sugar, salt...</td>\n",
       "      <td>Which fish would survive in salt water?</td>\n",
       "      <td>0</td>\n",
       "    </tr>\n",
       "    <tr>\n",
       "      <th>5</th>\n",
       "      <td>5</td>\n",
       "      <td>11</td>\n",
       "      <td>12</td>\n",
       "      <td>Astrology: I am a Capricorn Sun Cap moon and c...</td>\n",
       "      <td>I'm a triple Capricorn (Sun, Moon and ascendan...</td>\n",
       "      <td>1</td>\n",
       "    </tr>\n",
       "    <tr>\n",
       "      <th>6</th>\n",
       "      <td>6</td>\n",
       "      <td>13</td>\n",
       "      <td>14</td>\n",
       "      <td>Should I buy tiago?</td>\n",
       "      <td>What keeps childern active and far from phone ...</td>\n",
       "      <td>0</td>\n",
       "    </tr>\n",
       "    <tr>\n",
       "      <th>7</th>\n",
       "      <td>7</td>\n",
       "      <td>15</td>\n",
       "      <td>16</td>\n",
       "      <td>How can I be a good geologist?</td>\n",
       "      <td>What should I do to be a great geologist?</td>\n",
       "      <td>1</td>\n",
       "    </tr>\n",
       "    <tr>\n",
       "      <th>8</th>\n",
       "      <td>8</td>\n",
       "      <td>17</td>\n",
       "      <td>18</td>\n",
       "      <td>When do you use シ instead of し?</td>\n",
       "      <td>When do you use \"&amp;\" instead of \"and\"?</td>\n",
       "      <td>0</td>\n",
       "    </tr>\n",
       "    <tr>\n",
       "      <th>9</th>\n",
       "      <td>9</td>\n",
       "      <td>19</td>\n",
       "      <td>20</td>\n",
       "      <td>Motorola (company): Can I hack my Charter Moto...</td>\n",
       "      <td>How do I hack Motorola DCX3400 for free internet?</td>\n",
       "      <td>0</td>\n",
       "    </tr>\n",
       "    <tr>\n",
       "      <th>10</th>\n",
       "      <td>10</td>\n",
       "      <td>21</td>\n",
       "      <td>22</td>\n",
       "      <td>Method to find separation of slits using fresn...</td>\n",
       "      <td>What are some of the things technicians can te...</td>\n",
       "      <td>0</td>\n",
       "    </tr>\n",
       "    <tr>\n",
       "      <th>11</th>\n",
       "      <td>11</td>\n",
       "      <td>23</td>\n",
       "      <td>24</td>\n",
       "      <td>How do I read and find my YouTube comments?</td>\n",
       "      <td>How can I see all my Youtube comments?</td>\n",
       "      <td>1</td>\n",
       "    </tr>\n",
       "    <tr>\n",
       "      <th>12</th>\n",
       "      <td>12</td>\n",
       "      <td>25</td>\n",
       "      <td>26</td>\n",
       "      <td>What can make Physics easy to learn?</td>\n",
       "      <td>How can you make physics easy to learn?</td>\n",
       "      <td>1</td>\n",
       "    </tr>\n",
       "    <tr>\n",
       "      <th>13</th>\n",
       "      <td>13</td>\n",
       "      <td>27</td>\n",
       "      <td>28</td>\n",
       "      <td>What was your first sexual experience like?</td>\n",
       "      <td>What was your first sexual experience?</td>\n",
       "      <td>1</td>\n",
       "    </tr>\n",
       "    <tr>\n",
       "      <th>14</th>\n",
       "      <td>14</td>\n",
       "      <td>29</td>\n",
       "      <td>30</td>\n",
       "      <td>What are the laws to change your status from a...</td>\n",
       "      <td>What are the laws to change your status from a...</td>\n",
       "      <td>0</td>\n",
       "    </tr>\n",
       "  </tbody>\n",
       "</table>\n",
       "</div>"
      ],
      "text/plain": [
       "    id  qid1  qid2                                          question1  \\\n",
       "0    0     1     2  What is the step by step guide to invest in sh...   \n",
       "1    1     3     4  What is the story of Kohinoor (Koh-i-Noor) Dia...   \n",
       "2    2     5     6  How can I increase the speed of my internet co...   \n",
       "3    3     7     8  Why am I mentally very lonely? How can I solve...   \n",
       "4    4     9    10  Which one dissolve in water quikly sugar, salt...   \n",
       "5    5    11    12  Astrology: I am a Capricorn Sun Cap moon and c...   \n",
       "6    6    13    14                                Should I buy tiago?   \n",
       "7    7    15    16                     How can I be a good geologist?   \n",
       "8    8    17    18                    When do you use シ instead of し?   \n",
       "9    9    19    20  Motorola (company): Can I hack my Charter Moto...   \n",
       "10  10    21    22  Method to find separation of slits using fresn...   \n",
       "11  11    23    24        How do I read and find my YouTube comments?   \n",
       "12  12    25    26               What can make Physics easy to learn?   \n",
       "13  13    27    28        What was your first sexual experience like?   \n",
       "14  14    29    30  What are the laws to change your status from a...   \n",
       "\n",
       "                                            question2  is_duplicate  \n",
       "0   What is the step by step guide to invest in sh...             0  \n",
       "1   What would happen if the Indian government sto...             0  \n",
       "2   How can Internet speed be increased by hacking...             0  \n",
       "3   Find the remainder when [math]23^{24}[/math] i...             0  \n",
       "4             Which fish would survive in salt water?             0  \n",
       "5   I'm a triple Capricorn (Sun, Moon and ascendan...             1  \n",
       "6   What keeps childern active and far from phone ...             0  \n",
       "7           What should I do to be a great geologist?             1  \n",
       "8               When do you use \"&\" instead of \"and\"?             0  \n",
       "9   How do I hack Motorola DCX3400 for free internet?             0  \n",
       "10  What are some of the things technicians can te...             0  \n",
       "11             How can I see all my Youtube comments?             1  \n",
       "12            How can you make physics easy to learn?             1  \n",
       "13             What was your first sexual experience?             1  \n",
       "14  What are the laws to change your status from a...             0  "
      ]
     },
     "execution_count": 4,
     "metadata": {},
     "output_type": "execute_result"
    }
   ],
   "source": [
    "# Analyze first 15 entries in the dataset\n",
    "data.head(15)"
   ]
  },
  {
   "cell_type": "code",
   "execution_count": 5,
   "metadata": {},
   "outputs": [
    {
     "data": {
      "text/plain": [
       "<matplotlib.axes._subplots.AxesSubplot at 0x1aa00334be0>"
      ]
     },
     "execution_count": 5,
     "metadata": {},
     "output_type": "execute_result"
    },
    {
     "data": {
      "image/png": "[encoded data removed]",
      "text/plain": [
       "<Figure size 432x288 with 1 Axes>"
      ]
     },
     "metadata": {},
     "output_type": "display_data"
    }
   ],
   "source": [
    "# Graph of is_duplicate v/s number of questions\n",
    "plt.figure()\n",
    "plt.xlabel('Is duplicate?')\n",
    "plt.ylabel('Number of questions')\n",
    "data['is_duplicate'].value_counts().plot(kind='bar')"
   ]
  },
  {
   "cell_type": "code",
   "execution_count": 6,
   "metadata": {
    "collapsed": true
   },
   "outputs": [],
   "source": [
    "# Word count difference between quesion1 and question2\n",
    "duplicate_pairs = data[data['is_duplicate'] == 1]\n",
    "non_duplicate_pairs = data[data['is_duplicate']==0]\n",
    "\n",
    "duplicate_pairs_wordcount_diff = (duplicate_pairs['question1'].str.len() - duplicate_pairs['question2'].str.len()).abs()\n",
    "non_duplicate_pairs_wordcount_diff = (non_duplicate_pairs['question1'].str.len() - non_duplicate_pairs['question2'].str.len()).abs()"
   ]
  },
  {
   "cell_type": "code",
   "execution_count": 7,
   "metadata": {},
   "outputs": [
    {
     "data": {
      "text/plain": [
       "<matplotlib.axes._subplots.AxesSubplot at 0x1aa03356a20>"
      ]
     },
     "execution_count": 7,
     "metadata": {},
     "output_type": "execute_result"
    },
    {
     "data": {
      "image/png": "[encoded data removed]",
      "text/plain": [
       "<Figure size 432x288 with 1 Axes>"
      ]
     },
     "metadata": {},
     "output_type": "display_data"
    }
   ],
   "source": [
    "# Graph of difference in word count of duplicate questions v/s number of questions\n",
    "plt.figure()\n",
    "plt.xlabel('Difference in word count of duplicate questions')\n",
    "plt.ylabel('Number of questions')\n",
    "duplicate_pairs_wordcount_diff.plot(kind='hist', bins=200)"
   ]
  },
  {
   "cell_type": "code",
   "execution_count": 8,
   "metadata": {},
   "outputs": [
    {
     "data": {
      "text/plain": [
       "<matplotlib.axes._subplots.AxesSubplot at 0x1aa003d37f0>"
      ]
     },
     "execution_count": 8,
     "metadata": {},
     "output_type": "execute_result"
    },
    {
     "data": {
      "image/png": "[encoded data removed]",
      "text/plain": [
       "<Figure size 432x288 with 1 Axes>"
      ]
     },
     "metadata": {},
     "output_type": "display_data"
    }
   ],
   "source": [
    "# Graph of difference in word count of non-duplicate questions v/s number of questions\n",
    "plt.figure()\n",
    "plt.xlabel('Difference in word count of non-duplicate questions')\n",
    "plt.ylabel('Number of questions')\n",
    "non_duplicate_pairs_wordcount_diff.plot(kind='hist', bins=200)"
   ]
  },
  {
   "cell_type": "code",
   "execution_count": 9,
   "metadata": {
    "collapsed": true
   },
   "outputs": [],
   "source": [
    "# Jaccard index\n",
    "def jaccard_index(text1, text2):\n",
    "    words1 = set(text1.split())\n",
    "    words2 = set(text2.split())\n",
    "    \n",
    "    intersection = len(words1.intersection(words2))\n",
    "    union = len(words1.union(words2))\n",
    "    \n",
    "    return intersection / union"
   ]
  },
  {
   "cell_type": "code",
   "execution_count": 10,
   "metadata": {
    "collapsed": true
   },
   "outputs": [],
   "source": [
    "# Return Jaccard similarity for a row\n",
    "def jaccard_index_for_row(row):\n",
    "     jaccard_index(str(row['question1']), str(row['question2']))"
   ]
  },
  {
   "cell_type": "code",
   "execution_count": 11,
   "metadata": {},
   "outputs": [
    {
     "name": "stdout",
     "output_type": "stream",
     "text": [
      "    id  qid1  qid2                                          question1  \\\n",
      "5    5    11    12  Astrology: I am a Capricorn Sun Cap moon and c...   \n",
      "7    7    15    16                     How can I be a good geologist?   \n",
      "11  11    23    24        How do I read and find my YouTube comments?   \n",
      "12  12    25    26               What can make Physics easy to learn?   \n",
      "13  13    27    28        What was your first sexual experience like?   \n",
      "\n",
      "                                            question2  is_duplicate  \n",
      "5   I'm a triple Capricorn (Sun, Moon and ascendan...             1  \n",
      "7           What should I do to be a great geologist?             1  \n",
      "11             How can I see all my Youtube comments?             1  \n",
      "12            How can you make physics easy to learn?             1  \n",
      "13             What was your first sexual experience?             1  \n",
      "5     None\n",
      "7     None\n",
      "11    None\n",
      "12    None\n",
      "13    None\n",
      "dtype: object\n",
      "<bound method Series.keys of 5         None\n",
      "7         None\n",
      "11        None\n",
      "12        None\n",
      "13        None\n",
      "15        None\n",
      "16        None\n",
      "18        None\n",
      "20        None\n",
      "29        None\n",
      "31        None\n",
      "32        None\n",
      "38        None\n",
      "48        None\n",
      "49        None\n",
      "50        None\n",
      "51        None\n",
      "53        None\n",
      "58        None\n",
      "62        None\n",
      "65        None\n",
      "66        None\n",
      "67        None\n",
      "71        None\n",
      "72        None\n",
      "73        None\n",
      "74        None\n",
      "79        None\n",
      "84        None\n",
      "85        None\n",
      "          ... \n",
      "404208    None\n",
      "404215    None\n",
      "404216    None\n",
      "404218    None\n",
      "404220    None\n",
      "404221    None\n",
      "404224    None\n",
      "404227    None\n",
      "404231    None\n",
      "404240    None\n",
      "404241    None\n",
      "404242    None\n",
      "404243    None\n",
      "404244    None\n",
      "404247    None\n",
      "404249    None\n",
      "404257    None\n",
      "404258    None\n",
      "404259    None\n",
      "404261    None\n",
      "404265    None\n",
      "404267    None\n",
      "404272    None\n",
      "404273    None\n",
      "404274    None\n",
      "404280    None\n",
      "404281    None\n",
      "404282    None\n",
      "404284    None\n",
      "404286    None\n",
      "Length: 149263, dtype: object>\n",
      "done\n"
     ]
    }
   ],
   "source": [
    "# Find Jaccard index for duplicate and non-duplicate pairs\n",
    "duplicate_jaccards = duplicate_pairs.apply(jaccard_index_for_row, axis=1)\n",
    "#non_duplicate_jaccards = non_duplicate_pairs.apply(jaccard_index_for_row, axis=1)\n",
    "\n",
    "print (duplicate_pairs.head())\n",
    "print (duplicate_jaccards.head())\n",
    "print(duplicate_jaccards.keys)\n",
    "print ('done')"
   ]
  },
  {
   "cell_type": "code",
   "execution_count": 12,
   "metadata": {},
   "outputs": [
    {
     "ename": "TypeError",
     "evalue": "Empty 'DataFrame': no numeric data to plot",
     "output_type": "error",
     "traceback": [
      "\u001b[1;31m---------------------------------------------------------------------------\u001b[0m",
      "\u001b[1;31mTypeError\u001b[0m                                 Traceback (most recent call last)",
      "\u001b[1;32m<ipython-input-12-187ce18e46d5>\u001b[0m in \u001b[0;36m<module>\u001b[1;34m()\u001b[0m\n\u001b[0;32m      1\u001b[0m \u001b[0mplt\u001b[0m\u001b[1;33m.\u001b[0m\u001b[0mfigure\u001b[0m\u001b[1;33m(\u001b[0m\u001b[1;33m)\u001b[0m\u001b[1;33m\u001b[0m\u001b[0m\n\u001b[0;32m      2\u001b[0m \u001b[0mplt\u001b[0m\u001b[1;33m.\u001b[0m\u001b[0mxlabel\u001b[0m\u001b[1;33m(\u001b[0m\u001b[1;34m'Jaccard similarity for duplicate question pairs'\u001b[0m\u001b[1;33m)\u001b[0m\u001b[1;33m\u001b[0m\u001b[0m\n\u001b[1;32m----> 3\u001b[1;33m \u001b[0mduplicate_jaccards\u001b[0m\u001b[1;33m.\u001b[0m\u001b[0mplot\u001b[0m\u001b[1;33m(\u001b[0m\u001b[0mkind\u001b[0m\u001b[1;33m=\u001b[0m\u001b[1;34m'hist'\u001b[0m\u001b[1;33m)\u001b[0m\u001b[1;33m\u001b[0m\u001b[0m\n\u001b[0m",
      "\u001b[1;32mc:\\users\\risha\\anaconda2\\envs\\py3\\lib\\site-packages\\pandas\\plotting\\_core.py\u001b[0m in \u001b[0;36m__call__\u001b[1;34m(self, kind, ax, figsize, use_index, title, grid, legend, style, logx, logy, loglog, xticks, yticks, xlim, ylim, rot, fontsize, colormap, table, yerr, xerr, label, secondary_y, **kwds)\u001b[0m\n\u001b[0;32m   2739\u001b[0m                            \u001b[0mcolormap\u001b[0m\u001b[1;33m=\u001b[0m\u001b[0mcolormap\u001b[0m\u001b[1;33m,\u001b[0m \u001b[0mtable\u001b[0m\u001b[1;33m=\u001b[0m\u001b[0mtable\u001b[0m\u001b[1;33m,\u001b[0m \u001b[0myerr\u001b[0m\u001b[1;33m=\u001b[0m\u001b[0myerr\u001b[0m\u001b[1;33m,\u001b[0m\u001b[1;33m\u001b[0m\u001b[0m\n\u001b[0;32m   2740\u001b[0m                            \u001b[0mxerr\u001b[0m\u001b[1;33m=\u001b[0m\u001b[0mxerr\u001b[0m\u001b[1;33m,\u001b[0m \u001b[0mlabel\u001b[0m\u001b[1;33m=\u001b[0m\u001b[0mlabel\u001b[0m\u001b[1;33m,\u001b[0m \u001b[0msecondary_y\u001b[0m\u001b[1;33m=\u001b[0m\u001b[0msecondary_y\u001b[0m\u001b[1;33m,\u001b[0m\u001b[1;33m\u001b[0m\u001b[0m\n\u001b[1;32m-> 2741\u001b[1;33m                            **kwds)\n\u001b[0m\u001b[0;32m   2742\u001b[0m     \u001b[0m__call__\u001b[0m\u001b[1;33m.\u001b[0m\u001b[0m__doc__\u001b[0m \u001b[1;33m=\u001b[0m \u001b[0mplot_series\u001b[0m\u001b[1;33m.\u001b[0m\u001b[0m__doc__\u001b[0m\u001b[1;33m\u001b[0m\u001b[0m\n\u001b[0;32m   2743\u001b[0m \u001b[1;33m\u001b[0m\u001b[0m\n",
      "\u001b[1;32mc:\\users\\risha\\anaconda2\\envs\\py3\\lib\\site-packages\\pandas\\plotting\\_core.py\u001b[0m in \u001b[0;36mplot_series\u001b[1;34m(data, kind, ax, figsize, use_index, title, grid, legend, style, logx, logy, loglog, xticks, yticks, xlim, ylim, rot, fontsize, colormap, table, yerr, xerr, label, secondary_y, **kwds)\u001b[0m\n\u001b[0;32m   2000\u001b[0m                  \u001b[0myerr\u001b[0m\u001b[1;33m=\u001b[0m\u001b[0myerr\u001b[0m\u001b[1;33m,\u001b[0m \u001b[0mxerr\u001b[0m\u001b[1;33m=\u001b[0m\u001b[0mxerr\u001b[0m\u001b[1;33m,\u001b[0m\u001b[1;33m\u001b[0m\u001b[0m\n\u001b[0;32m   2001\u001b[0m                  \u001b[0mlabel\u001b[0m\u001b[1;33m=\u001b[0m\u001b[0mlabel\u001b[0m\u001b[1;33m,\u001b[0m \u001b[0msecondary_y\u001b[0m\u001b[1;33m=\u001b[0m\u001b[0msecondary_y\u001b[0m\u001b[1;33m,\u001b[0m\u001b[1;33m\u001b[0m\u001b[0m\n\u001b[1;32m-> 2002\u001b[1;33m                  **kwds)\n\u001b[0m\u001b[0;32m   2003\u001b[0m \u001b[1;33m\u001b[0m\u001b[0m\n\u001b[0;32m   2004\u001b[0m \u001b[1;33m\u001b[0m\u001b[0m\n",
      "\u001b[1;32mc:\\users\\risha\\anaconda2\\envs\\py3\\lib\\site-packages\\pandas\\plotting\\_core.py\u001b[0m in \u001b[0;36m_plot\u001b[1;34m(data, x, y, subplots, ax, kind, **kwds)\u001b[0m\n\u001b[0;32m   1802\u001b[0m         \u001b[0mplot_obj\u001b[0m \u001b[1;33m=\u001b[0m \u001b[0mklass\u001b[0m\u001b[1;33m(\u001b[0m\u001b[0mdata\u001b[0m\u001b[1;33m,\u001b[0m \u001b[0msubplots\u001b[0m\u001b[1;33m=\u001b[0m\u001b[0msubplots\u001b[0m\u001b[1;33m,\u001b[0m \u001b[0max\u001b[0m\u001b[1;33m=\u001b[0m\u001b[0max\u001b[0m\u001b[1;33m,\u001b[0m \u001b[0mkind\u001b[0m\u001b[1;33m=\u001b[0m\u001b[0mkind\u001b[0m\u001b[1;33m,\u001b[0m \u001b[1;33m**\u001b[0m\u001b[0mkwds\u001b[0m\u001b[1;33m)\u001b[0m\u001b[1;33m\u001b[0m\u001b[0m\n\u001b[0;32m   1803\u001b[0m \u001b[1;33m\u001b[0m\u001b[0m\n\u001b[1;32m-> 1804\u001b[1;33m     \u001b[0mplot_obj\u001b[0m\u001b[1;33m.\u001b[0m\u001b[0mgenerate\u001b[0m\u001b[1;33m(\u001b[0m\u001b[1;33m)\u001b[0m\u001b[1;33m\u001b[0m\u001b[0m\n\u001b[0m\u001b[0;32m   1805\u001b[0m     \u001b[0mplot_obj\u001b[0m\u001b[1;33m.\u001b[0m\u001b[0mdraw\u001b[0m\u001b[1;33m(\u001b[0m\u001b[1;33m)\u001b[0m\u001b[1;33m\u001b[0m\u001b[0m\n\u001b[0;32m   1806\u001b[0m     \u001b[1;32mreturn\u001b[0m \u001b[0mplot_obj\u001b[0m\u001b[1;33m.\u001b[0m\u001b[0mresult\u001b[0m\u001b[1;33m\u001b[0m\u001b[0m\n",
      "\u001b[1;32mc:\\users\\risha\\anaconda2\\envs\\py3\\lib\\site-packages\\pandas\\plotting\\_core.py\u001b[0m in \u001b[0;36mgenerate\u001b[1;34m(self)\u001b[0m\n\u001b[0;32m    256\u001b[0m     \u001b[1;32mdef\u001b[0m \u001b[0mgenerate\u001b[0m\u001b[1;33m(\u001b[0m\u001b[0mself\u001b[0m\u001b[1;33m)\u001b[0m\u001b[1;33m:\u001b[0m\u001b[1;33m\u001b[0m\u001b[0m\n\u001b[0;32m    257\u001b[0m         \u001b[0mself\u001b[0m\u001b[1;33m.\u001b[0m\u001b[0m_args_adjust\u001b[0m\u001b[1;33m(\u001b[0m\u001b[1;33m)\u001b[0m\u001b[1;33m\u001b[0m\u001b[0m\n\u001b[1;32m--> 258\u001b[1;33m         \u001b[0mself\u001b[0m\u001b[1;33m.\u001b[0m\u001b[0m_compute_plot_data\u001b[0m\u001b[1;33m(\u001b[0m\u001b[1;33m)\u001b[0m\u001b[1;33m\u001b[0m\u001b[0m\n\u001b[0m\u001b[0;32m    259\u001b[0m         \u001b[0mself\u001b[0m\u001b[1;33m.\u001b[0m\u001b[0m_setup_subplots\u001b[0m\u001b[1;33m(\u001b[0m\u001b[1;33m)\u001b[0m\u001b[1;33m\u001b[0m\u001b[0m\n\u001b[0;32m    260\u001b[0m         \u001b[0mself\u001b[0m\u001b[1;33m.\u001b[0m\u001b[0m_make_plot\u001b[0m\u001b[1;33m(\u001b[0m\u001b[1;33m)\u001b[0m\u001b[1;33m\u001b[0m\u001b[0m\n",
      "\u001b[1;32mc:\\users\\risha\\anaconda2\\envs\\py3\\lib\\site-packages\\pandas\\plotting\\_core.py\u001b[0m in \u001b[0;36m_compute_plot_data\u001b[1;34m(self)\u001b[0m\n\u001b[0;32m    371\u001b[0m         \u001b[1;32mif\u001b[0m \u001b[0mis_empty\u001b[0m\u001b[1;33m:\u001b[0m\u001b[1;33m\u001b[0m\u001b[0m\n\u001b[0;32m    372\u001b[0m             raise TypeError('Empty {0!r}: no numeric data to '\n\u001b[1;32m--> 373\u001b[1;33m                             'plot'.format(numeric_data.__class__.__name__))\n\u001b[0m\u001b[0;32m    374\u001b[0m \u001b[1;33m\u001b[0m\u001b[0m\n\u001b[0;32m    375\u001b[0m         \u001b[0mself\u001b[0m\u001b[1;33m.\u001b[0m\u001b[0mdata\u001b[0m \u001b[1;33m=\u001b[0m \u001b[0mnumeric_data\u001b[0m\u001b[1;33m\u001b[0m\u001b[0m\n",
      "\u001b[1;31mTypeError\u001b[0m: Empty 'DataFrame': no numeric data to plot"
     ]
    },
    {
     "data": {
      "image/png": "[encoded data removed]",
      "text/plain": [
       "<Figure size 432x288 with 1 Axes>"
      ]
     },
     "metadata": {},
     "output_type": "display_data"
    }
   ],
   "source": [
    "plt.figure()\n",
    "plt.xlabel('Jaccard similarity for duplicate question pairs')\n",
    "duplicate_jaccards.plot(kind='hist')"
   ]
  },
  {
   "cell_type": "code",
   "execution_count": 13,
   "metadata": {},
   "outputs": [
    {
     "ename": "NameError",
     "evalue": "name 'non_duplicate_jaccards' is not defined",
     "output_type": "error",
     "traceback": [
      "\u001b[1;31m---------------------------------------------------------------------------\u001b[0m",
      "\u001b[1;31mNameError\u001b[0m                                 Traceback (most recent call last)",
      "\u001b[1;32m<ipython-input-13-078620c90959>\u001b[0m in \u001b[0;36m<module>\u001b[1;34m()\u001b[0m\n\u001b[0;32m      1\u001b[0m \u001b[0mplt\u001b[0m\u001b[1;33m.\u001b[0m\u001b[0mfigure\u001b[0m\u001b[1;33m(\u001b[0m\u001b[1;33m)\u001b[0m\u001b[1;33m\u001b[0m\u001b[0m\n\u001b[0;32m      2\u001b[0m \u001b[0mplt\u001b[0m\u001b[1;33m.\u001b[0m\u001b[0mxlabel\u001b[0m\u001b[1;33m(\u001b[0m\u001b[1;34m'Jaccard similarity for non duplicate question pairs'\u001b[0m\u001b[1;33m)\u001b[0m\u001b[1;33m\u001b[0m\u001b[0m\n\u001b[1;32m----> 3\u001b[1;33m \u001b[0mnon_duplicate_jaccards\u001b[0m\u001b[1;33m.\u001b[0m\u001b[0mplot\u001b[0m\u001b[1;33m(\u001b[0m\u001b[0mkind\u001b[0m\u001b[1;33m=\u001b[0m\u001b[1;34m'hist'\u001b[0m\u001b[1;33m)\u001b[0m\u001b[1;33m\u001b[0m\u001b[0m\n\u001b[0m",
      "\u001b[1;31mNameError\u001b[0m: name 'non_duplicate_jaccards' is not defined"
     ]
    },
    {
     "data": {
      "image/png": "[encoded data removed]",
      "text/plain": [
       "<Figure size 432x288 with 1 Axes>"
      ]
     },
     "metadata": {},
     "output_type": "display_data"
    }
   ],
   "source": [
    "plt.figure()\n",
    "plt.xlabel('Jaccard similarity for non duplicate question pairs')\n",
    "non_duplicate_jaccards.plot(kind='hist')"
   ]
  },
  {
   "cell_type": "markdown",
   "metadata": {
    "collapsed": true
   },
   "source": [
    "### Benchmark Model"
   ]
  },
  {
   "cell_type": "code",
   "execution_count": 14,
   "metadata": {
    "collapsed": true
   },
   "outputs": [],
   "source": [
    "# returns 90% of the dataset as testing data\n",
    "def get_testing_dataset(data):\n",
    "    index = int (0.9 * len(data))\n",
    "    return (pd.DataFrame({'question1':data['question1'][index:,], 'question2':data['question2'][index:,]}),\n",
    "            data['is_duplicate'][index:,])"
   ]
  },
  {
   "cell_type": "code",
   "execution_count": 15,
   "metadata": {
    "collapsed": true
   },
   "outputs": [],
   "source": [
    "benchmark_data = get_testing_dataset(data)"
   ]
  },
  {
   "cell_type": "code",
   "execution_count": 16,
   "metadata": {},
   "outputs": [
    {
     "data": {
      "text/html": [
       "<div>\n",
       "<style scoped>\n",
       "    .dataframe tbody tr th:only-of-type {\n",
       "        vertical-align: middle;\n",
       "    }\n",
       "\n",
       "    .dataframe tbody tr th {\n",
       "        vertical-align: top;\n",
       "    }\n",
       "\n",
       "    .dataframe thead th {\n",
       "        text-align: right;\n",
       "    }\n",
       "</style>\n",
       "<table border=\"1\" class=\"dataframe\">\n",
       "  <thead>\n",
       "    <tr style=\"text-align: right;\">\n",
       "      <th></th>\n",
       "      <th>question1</th>\n",
       "      <th>question2</th>\n",
       "    </tr>\n",
       "  </thead>\n",
       "  <tbody>\n",
       "    <tr>\n",
       "      <th>363861</th>\n",
       "      <td>How do you become both a lawyer and a doctor?</td>\n",
       "      <td>How can you become a lawyer?</td>\n",
       "    </tr>\n",
       "    <tr>\n",
       "      <th>363862</th>\n",
       "      <td>How do I get rid of the smell from a cat spray...</td>\n",
       "      <td>How can I stop my cat from spraying?</td>\n",
       "    </tr>\n",
       "    <tr>\n",
       "      <th>363863</th>\n",
       "      <td>How does one start a small business?</td>\n",
       "      <td>How can I start a successful small business?</td>\n",
       "    </tr>\n",
       "    <tr>\n",
       "      <th>363864</th>\n",
       "      <td>Which are the best GMAT coaching institutes in...</td>\n",
       "      <td>What is the best coaching institute for GMAT i...</td>\n",
       "    </tr>\n",
       "    <tr>\n",
       "      <th>363865</th>\n",
       "      <td>What are some good jobs for civil engineer?</td>\n",
       "      <td>Which are the best jobs in civil engineering?</td>\n",
       "    </tr>\n",
       "  </tbody>\n",
       "</table>\n",
       "</div>"
      ],
      "text/plain": [
       "                                                question1  \\\n",
       "363861      How do you become both a lawyer and a doctor?   \n",
       "363862  How do I get rid of the smell from a cat spray...   \n",
       "363863               How does one start a small business?   \n",
       "363864  Which are the best GMAT coaching institutes in...   \n",
       "363865        What are some good jobs for civil engineer?   \n",
       "\n",
       "                                                question2  \n",
       "363861                       How can you become a lawyer?  \n",
       "363862               How can I stop my cat from spraying?  \n",
       "363863       How can I start a successful small business?  \n",
       "363864  What is the best coaching institute for GMAT i...  \n",
       "363865      Which are the best jobs in civil engineering?  "
      ]
     },
     "execution_count": 16,
     "metadata": {},
     "output_type": "execute_result"
    }
   ],
   "source": [
    "benchmark_data[0].head()"
   ]
  },
  {
   "cell_type": "code",
   "execution_count": 17,
   "metadata": {
    "collapsed": true
   },
   "outputs": [],
   "source": [
    "def jaccard_threshold(value):\n",
    "    if value > 0.5:\n",
    "        return 1;\n",
    "    else:\n",
    "        return 0;"
   ]
  },
  {
   "cell_type": "code",
   "execution_count": 20,
   "metadata": {},
   "outputs": [
    {
     "name": "stdout",
     "output_type": "stream",
     "text": [
      "Thus, the benchmark model gives an accuracy of <function benchmark_mode_accuracy at 0x000001AA0638FF28> %\n"
     ]
    }
   ],
   "source": [
    "def benchmark_mode_accuracy(benchmark_data):\n",
    "    data = benchmark_data[0]\n",
    "    actual = benchmark_data[1]\n",
    "    predictions = data.apply(jaccard_index_for_row, axis=1).apply(jaccard_threshold)\n",
    "    \n",
    "    rights = (predictions == actual).sum()\n",
    "    wrongs = (predictions != actual).sum()\n",
    "\n",
    "    accuracy = 1.0 * rights / (rights + wrongs)\n",
    "    \n",
    "    return accuracy\n",
    "    \n",
    "#print(benchmark_mode_accuracy(benchmark_data))\n",
    "    \n",
    "#printst = str(round(100 * benchmark_mode_accuracy(benchmark_data), 2))\n",
    "\n",
    "print ('Thus, the benchmark model gives an accuracy of',benchmark_mode_accuracy,'%')#"
   ]
  },
  {
   "cell_type": "markdown",
   "metadata": {},
   "source": [
    "### Feature Extraction"
   ]
  },
  {
   "cell_type": "code",
   "execution_count": 21,
   "metadata": {
    "collapsed": true
   },
   "outputs": [],
   "source": [
    "nlp = spacy.load('en')"
   ]
  },
  {
   "cell_type": "code",
   "execution_count": 22,
   "metadata": {
    "collapsed": true
   },
   "outputs": [],
   "source": [
    "# Get GloVe vectors for each word\n",
    "def get_vectors_for_text(nlp, text):\n",
    "    return np.array([w.vector for w in nlp(text)])\n",
    "\n",
    "# Take the mean of all the rows, thus getting a single\n",
    "# row in the end\n",
    "def mean_pool(text_vectors):\n",
    "    return np.mean(text_vectors, axis=0)\n",
    "\n",
    "# Take the max from all rows, thus getting a single\n",
    "# row in the end\n",
    "def max_pool(text_vectors):\n",
    "    return np.max(text_vectors, axis=0)\n",
    "\n",
    "# Concat of max and mean pool of all vectors\n",
    "def features_for_text(nlp, text):\n",
    "    vectors = get_vectors_for_text(nlp, text)\n",
    "    \n",
    "    return np.concatenate((max_pool(vectors), mean_pool(vectors)))"
   ]
  },
  {
   "cell_type": "code",
   "execution_count": 23,
   "metadata": {},
   "outputs": [
    {
     "data": {
      "text/plain": [
       "array([[-2.7591033 ,  1.2157259 , -0.5788861 , ...,  0.5665025 ,\n",
       "         0.665437  ,  0.13682155],\n",
       "       [-0.88628864,  1.6891224 , -2.4245555 , ...,  0.02556491,\n",
       "        -0.04477631,  0.17925572],\n",
       "       [ 2.142237  ,  0.5824198 ,  0.2973313 , ...,  0.05903636,\n",
       "         0.2357986 ,  0.43427026],\n",
       "       ...,\n",
       "       [ 1.8298793 , -0.41593012,  0.05129522, ...,  0.28585154,\n",
       "        -0.4082324 ,  0.0481516 ],\n",
       "       [ 0.17937502,  1.4632998 ,  5.1881733 , ...,  0.20549607,\n",
       "        -0.25187686, -0.28815144],\n",
       "       [ 3.6091042 ,  1.0658673 ,  2.6265097 , ..., -0.09160421,\n",
       "        -0.09837446,  0.02842486]], dtype=float32)"
      ]
     },
     "execution_count": 23,
     "metadata": {},
     "output_type": "execute_result"
    }
   ],
   "source": [
    "get_vectors_for_text(nlp, str(data.loc[0]['question1']))"
   ]
  },
  {
   "cell_type": "code",
   "execution_count": 24,
   "metadata": {
    "collapsed": true
   },
   "outputs": [],
   "source": [
    "# Helper functions that will be used for stuff like pickling/unpickling data at each checkpoints\n",
    "directory_name = r'C:\\Users\\risha\\Desktop\\Udacity MLND\\Capstone\\features'\n",
    "\n",
    "def data_exists(name):\n",
    "    filename = os.path.join(directory_name, name + '.pickle')\n",
    "    return os.path.exists(filename)\n",
    "\n",
    "\n",
    "def save_data(name, content):\n",
    "    if not os.path.exists(directory_name):\n",
    "        os.mkdir(directory_name)\n",
    "\n",
    "    filename = os.path.join(directory_name, name + '.pickle')\n",
    "\n",
    "    with open(filename, 'wb') as pickle_file:\n",
    "        pickle.dump(content, pickle_file)\n",
    "\n",
    "\n",
    "def load_data(name):\n",
    "    filename = os.path.join(directory_name, name + '.pickle')\n",
    "\n",
    "    with open(filename, 'rb') as f:\n",
    "        return pickle.load(f)"
   ]
  },
  {
   "cell_type": "code",
   "execution_count": 25,
   "metadata": {},
   "outputs": [
    {
     "name": "stdout",
     "output_type": "stream",
     "text": [
      "hi\n"
     ]
    }
   ],
   "source": [
    "print(\"hi\")"
   ]
  },
  {
   "cell_type": "code",
   "execution_count": 26,
   "metadata": {
    "collapsed": true
   },
   "outputs": [],
   "source": [
    "def save_vectors(nlp, data):\n",
    "    if data_exists('vectors'):\n",
    "        return load_data('vectors')\n",
    "    features = {\n",
    "        'question1': [],\n",
    "        'question2': [],\n",
    "        'is_duplicate': []\n",
    "    }\n",
    "\n",
    "    for i in tqdm(range(len(data))):\n",
    "        try:\n",
    "            row = data.loc[i]\n",
    "            q1 = features_for_text(nlp, str(row['question1']))\n",
    "            q2 = features_for_text(nlp, str(row['question2']))\n",
    "\n",
    "            features['question1'].append(q1)\n",
    "            features['question2'].append(q2)\n",
    "            features['is_duplicate'].append(row['is_duplicate'])\n",
    "        except:\n",
    "            pass\n",
    "        \n",
    "    features['question1'] = np.asarray(features['question1'])\n",
    "    features['question2'] = np.asarray(features['question2'])\n",
    "    features['is_duplicate'] = np.asarray(features['is_duplicate'])\n",
    "    \n",
    "    save_data('vectors', features)\n",
    "    \n",
    "    return features"
   ]
  },
  {
   "cell_type": "code",
   "execution_count": 27,
   "metadata": {
    "scrolled": true
   },
   "outputs": [
    {
     "name": "stdout",
     "output_type": "stream",
     "text": [
      "[-1.47970951e+00 -4.21159357e-01  1.06445277e+00 -7.18621016e-02\n",
      "  2.12101102e+00  1.39717543e+00 -2.16116381e+00  1.11346328e+00\n",
      "  7.06262708e-01  1.18206561e+00  2.39653420e+00 -1.42033625e+00\n",
      "  7.76869237e-01 -2.62151432e+00 -2.49098420e+00  1.40702128e+00\n",
      " -4.85621989e-01  3.30703914e-01 -1.01403892e+00  2.55613422e+00\n",
      "  5.65430462e-01  3.04582644e+00  3.22912502e+00 -8.35585356e-01\n",
      " -1.43064380e+00 -7.87177622e-01 -1.76928878e-01  2.46902525e-01\n",
      "  1.35566330e+00 -2.21012235e-02  1.12495148e+00  7.40879178e-01\n",
      " -7.66251564e-01  1.47947621e+00 -7.61319697e-01  1.02593589e+00\n",
      " -2.20128131e+00  2.84820104e+00 -1.94958520e+00 -3.10584307e-02\n",
      "  4.57328856e-02  4.47482872e+00  1.55972266e+00  1.20721877e-01\n",
      " -3.10773087e+00 -6.38729095e-01 -3.72742534e+00 -2.00596452e-01\n",
      "  3.07094741e+00 -2.38101482e+00 -1.00460851e+00 -9.03264523e-01\n",
      " -6.01313472e-01 -9.85089660e-01 -2.94778883e-01  6.18771613e-01\n",
      "  3.57110453e+00 -2.22198915e+00 -3.35746932e+00 -8.80977511e-01\n",
      " -1.39037907e+00 -2.17773110e-01 -3.89755964e+00  1.77485013e+00\n",
      " -3.57757139e+00 -6.75827026e-01  2.38380671e+00 -2.74888992e+00\n",
      "  1.16637659e+00  3.30840755e+00 -7.55105555e-01 -4.48237836e-01\n",
      "  6.02242589e-01 -8.79089117e-01 -1.24272108e+00 -9.77721095e-01\n",
      "  5.06379128e+00 -2.49255514e+00 -4.29226971e+00 -1.50517058e+00\n",
      " -3.11670923e+00 -3.85990977e+00 -8.26970398e-01  1.82351887e-01\n",
      " -1.33351207e-01  1.39964461e-01  5.24795115e-01 -2.65564346e+00\n",
      " -2.91033220e+00  1.58544195e+00 -4.13616991e+00  6.09565163e+00\n",
      " -1.22401261e+00  8.80026042e-01 -1.92105103e+00  2.92261362e+00\n",
      " -6.81003928e-02  1.72682548e+00  8.78646970e-01  1.69196558e+00\n",
      " -4.70224142e-01 -2.20261335e-01 -2.16627932e+00 -2.92678642e+00\n",
      "  2.38116455e+00 -3.35327744e-01  1.32986975e+00 -4.27120543e+00\n",
      " -8.30732107e-01  5.01394081e+00 -9.49329495e-01  2.14265585e+00\n",
      "  1.86848426e+00 -6.98741615e-01  3.45580602e+00  7.84631729e-01\n",
      " -7.96630979e-01  4.18008566e-02  1.66404158e-01 -2.24285066e-01\n",
      "  3.85045958e+00  5.80370426e-01  4.28010821e-01 -4.97605532e-01\n",
      " -2.47903854e-01  1.16080713e+00  2.83814526e+00  2.58258820e-01\n",
      " -3.57589334e-01  4.53740180e-01  7.29592144e-02  6.53670728e-02\n",
      " -6.08952105e-01  2.57639110e-01 -1.23329163e-02  6.06453001e-01\n",
      "  1.66444957e-01  7.73327798e-02  1.62329316e-01  8.17605138e-01\n",
      " -5.34379959e-01 -2.02439532e-01 -2.49151140e-01 -3.17176819e-01\n",
      " -3.85002196e-01  6.64703846e-02 -3.81279528e-01  2.79118717e-02\n",
      " -1.75087303e-01  6.01195931e-01 -2.70908386e-01  3.47608984e-01\n",
      " -2.29479909e-01 -3.98598194e-01 -1.01715326e-04 -1.77654400e-01\n",
      " -4.44862872e-01 -1.23003578e+00  3.41191024e-01 -2.94646561e-01\n",
      "  2.85765976e-02 -4.81483042e-01 -1.06395751e-01 -2.15405896e-01\n",
      "  3.63263130e-01  4.95416895e-02  8.63414168e-01  3.57996404e-01\n",
      " -8.18842232e-01 -1.72112942e-01  7.79591203e-01  1.02695197e-01\n",
      "  3.90399456e-01  5.95805526e-01  5.68966568e-01  2.71207541e-02\n",
      " -6.21241093e-01 -7.80853927e-02  9.73115265e-02 -4.22538184e-02\n",
      " -3.85772496e-01  1.12106845e-01  7.55587816e-02 -1.42951906e-02\n",
      " -8.38413835e-03  1.96754068e-01  1.13068402e+00 -6.66877925e-01\n",
      "  7.27036893e-01  8.83777499e-01 -1.72820300e-01 -2.05867589e-02\n",
      " -3.07386339e-01  2.28301674e-01  1.90745428e-01 -5.11765420e-01\n",
      "  1.64341629e-02 -2.40171254e-02 -4.25079197e-01 -2.04027936e-01\n",
      "  3.87338370e-01  2.88639128e-01  8.09486955e-02  5.41899741e-01\n",
      "  8.30959231e-02  1.76209062e-01  2.14940995e-01 -1.41053945e-02\n",
      " -3.47544670e-01 -3.87998372e-01 -7.51093030e-01 -5.96486032e-02\n",
      " -1.72324717e-01  3.18997860e-01 -1.04521525e+00 -4.06192720e-01\n",
      " -6.14567280e-01  2.86516130e-01 -1.84958413e-01  2.17650101e-01\n",
      " -4.76595014e-01 -5.37475944e-01 -7.36375153e-02 -1.16930842e-01\n",
      " -2.60535002e-01 -3.45161080e-01 -2.35880136e-01 -1.31801784e-01\n",
      " -1.08716756e-01  7.48786449e-01 -5.89274049e-01  6.51698709e-01\n",
      "  4.11379606e-01  3.48357499e-01 -5.05290627e-01  2.22294927e-02\n",
      " -3.42448443e-01 -4.23920244e-01 -1.56041384e-01  1.45032629e-01\n",
      "  4.05258209e-01 -7.64677763e-01  7.67264307e-01 -7.88081169e-01\n",
      " -4.64854389e-01  1.16343468e-01 -1.91480249e-01  6.54743373e-01\n",
      " -6.92642033e-01 -8.06223601e-02  1.87882066e-01  3.51274788e-01\n",
      "  1.43542200e-01  7.85099149e-01  3.10092643e-02  1.13336563e+00\n",
      " -3.70266497e-01 -5.68817496e-01  5.14196515e-01  3.33423287e-01\n",
      " -4.99008298e-01 -2.63836563e-01 -2.04448014e-01 -1.24037147e+00\n",
      " -8.34233314e-03 -5.27354360e-01  2.11079404e-01  2.76668072e-02\n",
      "  1.99555591e-01 -4.69241470e-01 -2.44303178e-02  6.54637933e-01\n",
      " -7.26376653e-01 -3.75815630e-02  9.06418115e-02 -6.04587078e-01\n",
      " -3.25310647e-01 -2.28741124e-01  5.26296794e-01 -2.57758498e-01\n",
      " -7.55272090e-01  3.54329348e-01 -5.93653500e-01  3.07719976e-01\n",
      "  4.59971070e-01 -2.24935517e-01 -7.71758437e-01  3.76646519e-01\n",
      " -2.88754284e-01  8.31215084e-01  1.85737407e+00 -5.88414967e-02\n",
      " -4.92543280e-02  7.80453026e-01  4.00579572e-02  1.53204769e-01\n",
      " -5.57155252e-01  4.25420403e-02  2.42132217e-01 -3.70211244e-01\n",
      "  6.70264304e-01  2.30546296e-03  6.65956378e-01 -4.25682127e-01\n",
      " -2.11215243e-01 -3.78016174e-01 -3.69926214e-01 -2.61583328e-01\n",
      " -3.82033773e-02  1.42882198e-01  4.87167537e-02 -1.14144251e-01\n",
      " -2.20856100e-01 -4.80841637e-01  1.10109985e-01  3.92951727e-01\n",
      "  5.02271652e-01  1.26558089e+00 -4.25443888e-01 -7.46932775e-02\n",
      "  6.82303235e-02  7.42180467e-01 -4.44720119e-01  4.67977554e-01\n",
      " -2.00422928e-02  6.47412717e-01 -8.90937030e-01 -6.34675503e-01\n",
      "  3.45851451e-01  3.12506318e-01  1.34863412e+00  2.40537718e-01\n",
      " -1.11101158e-01  1.01044409e-01 -2.00341105e-01 -2.73434997e-01\n",
      " -7.16401815e-01 -4.27165508e-01 -6.56185597e-02 -3.95269215e-01\n",
      " -1.60569683e-01 -6.47912771e-02  8.07902813e-02 -6.13798872e-02\n",
      "  4.27913070e-01 -1.79543704e-01  7.45758057e-01  1.03759432e+00\n",
      " -4.07631457e-01  9.27717611e-02 -1.21909700e-01  1.87927932e-01\n",
      " -6.58795357e-01  8.01662087e-01  1.31526738e-02  1.39450148e-01\n",
      " -2.50882804e-01 -2.21554279e-01 -6.75984919e-01 -1.01418376e-01\n",
      " -3.66054893e-01 -4.10327315e-02  7.34925270e-02  6.81621730e-02\n",
      " -1.09200203e+00  7.34210074e-01 -3.97188008e-01 -1.37627244e-01\n",
      "  6.90972745e-01  5.06674170e-01  2.88543880e-01  1.18511297e-01\n",
      "  6.16601110e-01 -6.18703187e-01 -1.87203705e-01  1.03379214e+00\n",
      " -7.38961399e-02 -1.34925216e-01 -3.18908542e-02 -1.26902670e-01\n",
      " -4.50662613e-01 -3.74536693e-01  1.56265069e-02  1.68378025e-01]\n"
     ]
    }
   ],
   "source": [
    "print(nlp(u'hello').vector)"
   ]
  },
  {
   "cell_type": "code",
   "execution_count": 28,
   "metadata": {},
   "outputs": [],
   "source": [
    "vectors = save_vectors(nlp, data)"
   ]
  },
  {
   "cell_type": "code",
   "execution_count": 29,
   "metadata": {},
   "outputs": [
    {
     "name": "stdout",
     "output_type": "stream",
     "text": [
      "3\n"
     ]
    }
   ],
   "source": [
    "print(len(vectors))"
   ]
  },
  {
   "cell_type": "markdown",
   "metadata": {
    "collapsed": true
   },
   "source": [
    "### Building the network"
   ]
  },
  {
   "cell_type": "markdown",
   "metadata": {},
   "source": [
    "Trying multiple networks with different paramters"
   ]
  },
  {
   "cell_type": "code",
   "execution_count": 30,
   "metadata": {},
   "outputs": [
    {
     "name": "stdout",
     "output_type": "stream",
     "text": [
      "[{'batch_norm': True, 'no_weights': 100, 'no_layers': 2}, {'batch_norm': True, 'no_weights': 100, 'no_layers': 4}, {'batch_norm': True, 'no_weights': 100, 'no_layers': 6}, {'batch_norm': True, 'no_weights': 100, 'no_layers': 8}, {'batch_norm': True, 'no_weights': 200, 'no_layers': 2}, {'batch_norm': True, 'no_weights': 200, 'no_layers': 4}, {'batch_norm': True, 'no_weights': 200, 'no_layers': 6}, {'batch_norm': True, 'no_weights': 200, 'no_layers': 8}, {'batch_norm': True, 'no_weights': 300, 'no_layers': 2}, {'batch_norm': True, 'no_weights': 300, 'no_layers': 4}, {'batch_norm': True, 'no_weights': 300, 'no_layers': 6}, {'batch_norm': True, 'no_weights': 300, 'no_layers': 8}, {'batch_norm': False, 'no_weights': 100, 'no_layers': 2}, {'batch_norm': False, 'no_weights': 100, 'no_layers': 4}, {'batch_norm': False, 'no_weights': 100, 'no_layers': 6}, {'batch_norm': False, 'no_weights': 100, 'no_layers': 8}, {'batch_norm': False, 'no_weights': 200, 'no_layers': 2}, {'batch_norm': False, 'no_weights': 200, 'no_layers': 4}, {'batch_norm': False, 'no_weights': 200, 'no_layers': 6}, {'batch_norm': False, 'no_weights': 200, 'no_layers': 8}, {'batch_norm': False, 'no_weights': 300, 'no_layers': 2}, {'batch_norm': False, 'no_weights': 300, 'no_layers': 4}, {'batch_norm': False, 'no_weights': 300, 'no_layers': 6}, {'batch_norm': False, 'no_weights': 300, 'no_layers': 8}]\n",
      "24\n"
     ]
    }
   ],
   "source": [
    "# Define all combinations\n",
    "model_params = {\n",
    "    # Should we use batch normalization or not?\n",
    "    'batch_norm': [True, False],\n",
    "    \n",
    "    # No. of weights in each layer. All layers will have the same\n",
    "    # weights with ReLU activation\n",
    "    'no_weights': [100, 200, 300],\n",
    "    \n",
    "    # No. of layers\n",
    "    'no_layers': [2, 4, 6, 8]\n",
    "}\n",
    "\n",
    "# Generate all combinations\n",
    "def generate_combinations(params):\n",
    "    keys = list(params.keys())\n",
    "    \n",
    "    # Generate combinations of current key\n",
    "    current_key = keys[0]\n",
    "    current_combinations = []\n",
    "    for value in params[current_key]:\n",
    "        d = {}\n",
    "        d[current_key] = value\n",
    "        current_combinations.append(d)\n",
    "        \n",
    "    # Check if we need recursive processing\n",
    "    if len(keys) > 1:\n",
    "        other_combinations = generate_combinations({k:v for k,v in params.items() if k != current_key})\n",
    "        all_combinations = []\n",
    "        \n",
    "        for i in current_combinations:\n",
    "            for j in other_combinations:\n",
    "                d = i.copy()\n",
    "                d.update(j)\n",
    "                #all_combinations.append(dict(i.items() + j.items()))\n",
    "                all_combinations.append(dict(d))\n",
    "                \n",
    "        return all_combinations\n",
    "    else:\n",
    "        return current_combinations\n",
    "    \n",
    "all_combinations = generate_combinations(model_params)\n",
    "print(all_combinations)\n",
    "print(len(all_combinations))"
   ]
  },
  {
   "cell_type": "code",
   "execution_count": 31,
   "metadata": {
    "collapsed": true
   },
   "outputs": [],
   "source": [
    "def get_model(params):\n",
    "    input_1 = Input(shape=(600,), name='question1')\n",
    "    input_2 = Input(shape=(600,), name='question2')\n",
    "    layer = keras.layers.concatenate([input_1, input_2])\n",
    "    \n",
    "    for i in range(params['no_layers']):\n",
    "        if params['batch_norm']:\n",
    "            layer = BatchNormalization()(layer)\n",
    "        \n",
    "        layer = Dense(params['no_weights'], activation='relu')(layer)\n",
    "        \n",
    "    output = Dense(1, activation='sigmoid')(layer)\n",
    "    \n",
    "    model = Model(inputs=[input_1, input_2], outputs=[output])\n",
    "    model.compile(loss='binary_crossentropy', optimizer='adam', metrics=['accuracy'])\n",
    "    \n",
    "    return model"
   ]
  },
  {
   "cell_type": "markdown",
   "metadata": {},
   "source": [
    "### Train the Network"
   ]
  },
  {
   "cell_type": "code",
   "execution_count": 32,
   "metadata": {},
   "outputs": [
    {
     "name": "stdout",
     "output_type": "stream",
     "text": [
      "363861\n",
      "404290\n"
     ]
    }
   ],
   "source": [
    "TEST_SPLIT = 0.9\n",
    "TEST_INDEX = int(TEST_SPLIT * len(vectors['question1']))\n",
    "\n",
    "print(TEST_INDEX)\n",
    "print(len(vectors['question1']))"
   ]
  },
  {
   "cell_type": "code",
   "execution_count": 33,
   "metadata": {
    "collapsed": true
   },
   "outputs": [],
   "source": [
    "def get_name_from_params(params):\n",
    "    return \"{}_{}_{}.h5\".format(str(params['no_weights']), str(params['batch_norm']), str(params['no_layers']))\n",
    "\n",
    "def train_model(features, params):\n",
    "    model = get_model(params)\n",
    "    name = get_name_from_params(params)\n",
    "    \n",
    "    if os.path.exists(name):\n",
    "        print(\"Already exists: {}\".format(name))\n",
    "        return load_model(name)\n",
    "    else:\n",
    "        print(\"Processing: {}\".format(name))\n",
    "    \n",
    "    callbacks = [ModelCheckpoint(name, monitor='val_acc', save_best_only=True), CSVLogger(name + '.log')]\n",
    "    \n",
    "    question1 = features['question1'][0:TEST_INDEX,]\n",
    "    question2 = features['question2'][0:TEST_INDEX,]\n",
    "    is_duplicate = features['is_duplicate'][0:TEST_INDEX,]\n",
    "    \n",
    "    model.fit([question1, question2], is_duplicate, epochs=25, validation_split=0.1,\n",
    "              verbose=True, callbacks=callbacks)\n",
    "    \n",
    "    return model"
   ]
  },
  {
   "cell_type": "code",
   "execution_count": 34,
   "metadata": {},
   "outputs": [
    {
     "name": "stdout",
     "output_type": "stream",
     "text": [
      "Already exists: 100_True_2.h5\n"
     ]
    },
    {
     "name": "stderr",
     "output_type": "stream",
     "text": [
      "c:\\users\\risha\\anaconda2\\envs\\py3\\lib\\site-packages\\keras\\engine\\saving.py:305: UserWarning: Error in loading the saved optimizer state. As a result, your model is starting with a freshly initialized optimizer.\n",
      "  warnings.warn('Error in loading the saved optimizer '\n"
     ]
    },
    {
     "name": "stdout",
     "output_type": "stream",
     "text": [
      "Already exists: 100_True_4.h5\n",
      "Already exists: 100_True_6.h5\n",
      "Already exists: 100_True_8.h5\n",
      "Already exists: 200_True_2.h5\n",
      "Already exists: 200_True_4.h5\n",
      "Already exists: 200_True_6.h5\n",
      "Already exists: 200_True_8.h5\n",
      "Already exists: 300_True_2.h5\n",
      "Already exists: 300_True_4.h5\n",
      "Already exists: 300_True_6.h5\n",
      "Already exists: 300_True_8.h5\n",
      "Already exists: 100_False_2.h5\n",
      "Already exists: 100_False_4.h5\n",
      "Already exists: 100_False_6.h5\n",
      "Already exists: 100_False_8.h5\n",
      "Already exists: 200_False_2.h5\n",
      "Already exists: 200_False_4.h5\n",
      "Already exists: 200_False_6.h5\n",
      "Already exists: 200_False_8.h5\n",
      "Already exists: 300_False_2.h5\n",
      "Already exists: 300_False_4.h5\n",
      "Already exists: 300_False_6.h5\n",
      "Already exists: 300_False_8.h5\n"
     ]
    }
   ],
   "source": [
    "for combination in all_combinations:\n",
    "    train_model(vectors, combination)"
   ]
  },
  {
   "cell_type": "markdown",
   "metadata": {
    "collapsed": true
   },
   "source": [
    "### Test the network"
   ]
  },
  {
   "cell_type": "code",
   "execution_count": 35,
   "metadata": {},
   "outputs": [
    {
     "name": "stdout",
     "output_type": "stream",
     "text": [
      "Already exists: 100_True_2.h5\n"
     ]
    },
    {
     "name": "stderr",
     "output_type": "stream",
     "text": [
      "c:\\users\\risha\\anaconda2\\envs\\py3\\lib\\site-packages\\keras\\engine\\saving.py:305: UserWarning: Error in loading the saved optimizer state. As a result, your model is starting with a freshly initialized optimizer.\n",
      "  warnings.warn('Error in loading the saved optimizer '\n"
     ]
    },
    {
     "ename": "ValueError",
     "evalue": "Error when checking input: expected question1 to have shape (600,) but got array with shape (768,)",
     "output_type": "error",
     "traceback": [
      "\u001b[1;31m---------------------------------------------------------------------------\u001b[0m",
      "\u001b[1;31mValueError\u001b[0m                                Traceback (most recent call last)",
      "\u001b[1;32m<ipython-input-35-ff8c07729f2a>\u001b[0m in \u001b[0;36m<module>\u001b[1;34m()\u001b[0m\n\u001b[0;32m      9\u001b[0m     \u001b[0mmodel\u001b[0m \u001b[1;33m=\u001b[0m \u001b[0mtrain_model\u001b[0m\u001b[1;33m(\u001b[0m\u001b[0mvectors\u001b[0m\u001b[1;33m,\u001b[0m \u001b[0mcombination\u001b[0m\u001b[1;33m)\u001b[0m\u001b[1;33m\u001b[0m\u001b[0m\n\u001b[0;32m     10\u001b[0m \u001b[1;33m\u001b[0m\u001b[0m\n\u001b[1;32m---> 11\u001b[1;33m     \u001b[0mtest_scores\u001b[0m\u001b[1;33m[\u001b[0m\u001b[0mname\u001b[0m\u001b[1;33m]\u001b[0m \u001b[1;33m=\u001b[0m \u001b[0mmodel\u001b[0m\u001b[1;33m.\u001b[0m\u001b[0mevaluate\u001b[0m\u001b[1;33m(\u001b[0m\u001b[1;33m[\u001b[0m\u001b[0mt_question1\u001b[0m\u001b[1;33m,\u001b[0m \u001b[0mt_question2\u001b[0m\u001b[1;33m]\u001b[0m\u001b[1;33m,\u001b[0m \u001b[0mt_is_duplicate\u001b[0m\u001b[1;33m)\u001b[0m\u001b[1;33m\u001b[0m\u001b[0m\n\u001b[0m",
      "\u001b[1;32mc:\\users\\risha\\anaconda2\\envs\\py3\\lib\\site-packages\\keras\\engine\\training.py\u001b[0m in \u001b[0;36mevaluate\u001b[1;34m(self, x, y, batch_size, verbose, sample_weight, steps)\u001b[0m\n\u001b[0;32m   1103\u001b[0m             \u001b[0mx\u001b[0m\u001b[1;33m,\u001b[0m \u001b[0my\u001b[0m\u001b[1;33m,\u001b[0m\u001b[1;33m\u001b[0m\u001b[0m\n\u001b[0;32m   1104\u001b[0m             \u001b[0msample_weight\u001b[0m\u001b[1;33m=\u001b[0m\u001b[0msample_weight\u001b[0m\u001b[1;33m,\u001b[0m\u001b[1;33m\u001b[0m\u001b[0m\n\u001b[1;32m-> 1105\u001b[1;33m             batch_size=batch_size)\n\u001b[0m\u001b[0;32m   1106\u001b[0m         \u001b[1;31m# Prepare inputs, delegate logic to `test_loop`.\u001b[0m\u001b[1;33m\u001b[0m\u001b[1;33m\u001b[0m\u001b[0m\n\u001b[0;32m   1107\u001b[0m         \u001b[1;32mif\u001b[0m \u001b[0mself\u001b[0m\u001b[1;33m.\u001b[0m\u001b[0m_uses_dynamic_learning_phase\u001b[0m\u001b[1;33m(\u001b[0m\u001b[1;33m)\u001b[0m\u001b[1;33m:\u001b[0m\u001b[1;33m\u001b[0m\u001b[0m\n",
      "\u001b[1;32mc:\\users\\risha\\anaconda2\\envs\\py3\\lib\\site-packages\\keras\\engine\\training.py\u001b[0m in \u001b[0;36m_standardize_user_data\u001b[1;34m(self, x, y, sample_weight, class_weight, check_array_lengths, batch_size)\u001b[0m\n\u001b[0;32m    752\u001b[0m             \u001b[0mfeed_input_shapes\u001b[0m\u001b[1;33m,\u001b[0m\u001b[1;33m\u001b[0m\u001b[0m\n\u001b[0;32m    753\u001b[0m             \u001b[0mcheck_batch_axis\u001b[0m\u001b[1;33m=\u001b[0m\u001b[1;32mFalse\u001b[0m\u001b[1;33m,\u001b[0m  \u001b[1;31m# Don't enforce the batch size.\u001b[0m\u001b[1;33m\u001b[0m\u001b[0m\n\u001b[1;32m--> 754\u001b[1;33m             exception_prefix='input')\n\u001b[0m\u001b[0;32m    755\u001b[0m \u001b[1;33m\u001b[0m\u001b[0m\n\u001b[0;32m    756\u001b[0m         \u001b[1;32mif\u001b[0m \u001b[0my\u001b[0m \u001b[1;32mis\u001b[0m \u001b[1;32mnot\u001b[0m \u001b[1;32mNone\u001b[0m\u001b[1;33m:\u001b[0m\u001b[1;33m\u001b[0m\u001b[0m\n",
      "\u001b[1;32mc:\\users\\risha\\anaconda2\\envs\\py3\\lib\\site-packages\\keras\\engine\\training_utils.py\u001b[0m in \u001b[0;36mstandardize_input_data\u001b[1;34m(data, names, shapes, check_batch_axis, exception_prefix)\u001b[0m\n\u001b[0;32m    134\u001b[0m                             \u001b[1;34m': expected '\u001b[0m \u001b[1;33m+\u001b[0m \u001b[0mnames\u001b[0m\u001b[1;33m[\u001b[0m\u001b[0mi\u001b[0m\u001b[1;33m]\u001b[0m \u001b[1;33m+\u001b[0m \u001b[1;34m' to have shape '\u001b[0m \u001b[1;33m+\u001b[0m\u001b[1;33m\u001b[0m\u001b[0m\n\u001b[0;32m    135\u001b[0m                             \u001b[0mstr\u001b[0m\u001b[1;33m(\u001b[0m\u001b[0mshape\u001b[0m\u001b[1;33m)\u001b[0m \u001b[1;33m+\u001b[0m \u001b[1;34m' but got array with shape '\u001b[0m \u001b[1;33m+\u001b[0m\u001b[1;33m\u001b[0m\u001b[0m\n\u001b[1;32m--> 136\u001b[1;33m                             str(data_shape))\n\u001b[0m\u001b[0;32m    137\u001b[0m     \u001b[1;32mreturn\u001b[0m \u001b[0mdata\u001b[0m\u001b[1;33m\u001b[0m\u001b[0m\n\u001b[0;32m    138\u001b[0m \u001b[1;33m\u001b[0m\u001b[0m\n",
      "\u001b[1;31mValueError\u001b[0m: Error when checking input: expected question1 to have shape (600,) but got array with shape (768,)"
     ]
    }
   ],
   "source": [
    "test_scores = {}\n",
    "\n",
    "t_question1 = vectors['question1'][TEST_INDEX:,]\n",
    "t_question2 = vectors['question2'][TEST_INDEX:,]\n",
    "t_is_duplicate = vectors['is_duplicate'][TEST_INDEX:,]\n",
    "\n",
    "for combination in all_combinations:\n",
    "    name = get_name_from_params(combination)\n",
    "    model = train_model(vectors, combination)\n",
    "    \n",
    "    test_scores[name] = model.evaluate([t_question1, t_question2], t_is_duplicate)"
   ]
  },
  {
   "cell_type": "code",
   "execution_count": null,
   "metadata": {},
   "outputs": [],
   "source": [
    "save_data('test', 'scores', test_scores)"
   ]
  },
  {
   "cell_type": "code",
   "execution_count": null,
   "metadata": {},
   "outputs": [],
   "source": [
    "question1.shaoe()"
   ]
  },
  {
   "cell_type": "code",
   "execution_count": null,
   "metadata": {
    "collapsed": true
   },
   "outputs": [],
   "source": []
  }
 ],
 "metadata": {
  "kernelspec": {
   "display_name": "Python 3",
   "language": "python",
   "name": "python3"
  },
  "language_info": {
   "codemirror_mode": {
    "name": "ipython",
    "version": 3
   },
   "file_extension": ".py",
   "mimetype": "text/x-python",
   "name": "python",
   "nbconvert_exporter": "python",
   "pygments_lexer": "ipython3",
   "version": "3.6.5"
  }
 },
 "nbformat": 4,
 "nbformat_minor": 2
}
